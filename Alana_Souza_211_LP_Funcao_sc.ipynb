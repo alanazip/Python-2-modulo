{
  "nbformat": 4,
  "nbformat_minor": 0,
  "metadata": {
    "colab": {
      "name": "Alana Souza - 211_LP_Funcao_sc.ipynb",
      "provenance": [],
      "collapsed_sections": []
    },
    "kernelspec": {
      "name": "python3",
      "display_name": "Python 3"
    }
  },
  "cells": [
    {
      "cell_type": "markdown",
      "metadata": {
        "id": "skN-Wz61xZzi"
      },
      "source": [
        "### 1. (Função sem retorno com parâmetro) Faça um programa contendo uma função/método que leia um número e o multiplique por 2, apresente o resultado."
      ]
    },
    {
      "cell_type": "code",
      "metadata": {
        "id": "Wbjafj_QxWP-",
        "colab": {
          "base_uri": "https://localhost:8080/"
        },
        "outputId": "8d8ab47d-fdd5-4c57-b17c-23c4773936a0"
      },
      "source": [
        "def multiplicar(numero):\n",
        "    r = numero * 2\n",
        "    print('O resultado de',numero,'* 2 =',r)\n",
        "def main():\n",
        "    n = int (input('Informe um valor na main:   '))\n",
        "    multiplicar(n)\n",
        "main()"
      ],
      "execution_count": null,
      "outputs": [
        {
          "output_type": "stream",
          "text": [
            "Informe um valor na main:   20\n",
            "O resultado de 20 * 2 = 40\n"
          ],
          "name": "stdout"
        }
      ]
    },
    {
      "cell_type": "markdown",
      "metadata": {
        "id": "0jPoba3-yLnG"
      },
      "source": [
        "### 2. (Função sem retorno com parâmetro) Faça um programa contendo uma função/método para subtrair dois números e apresentar o resultado."
      ]
    },
    {
      "cell_type": "code",
      "metadata": {
        "id": "UHD2oMlJyLzc",
        "colab": {
          "base_uri": "https://localhost:8080/"
        },
        "outputId": "bbf3b3b6-73c1-42e5-e9a8-c7aa9ae82205"
      },
      "source": [
        "def subtrair(n1,n2):\n",
        "    st = n1 - n2\n",
        "    print('Resultado:',st)\n",
        "def main():\n",
        "    n1 = float (input('Insira um numero:    '))\n",
        "    n2 = float (input('Insira outro numero: '))\n",
        "    subtrair(n1,n2)\n",
        "main()"
      ],
      "execution_count": null,
      "outputs": [
        {
          "output_type": "stream",
          "text": [
            "Insira um numero:    13\n",
            "Insira outro numero: 3\n",
            "Resultado: 10.0\n"
          ],
          "name": "stdout"
        }
      ]
    },
    {
      "cell_type": "markdown",
      "metadata": {
        "id": "HAz_eYfhzg06"
      },
      "source": [
        "### 3. (Função sem retorno com parâmetro) Faça uma função/método que calcule a média de um aluno que realizou duas provas (P1 e P2), a partir desta média, chame/crie OUTRA função que verifique se esta média aprova ou reprova o aluno.\n"
      ]
    },
    {
      "cell_type": "code",
      "metadata": {
        "id": "Cg-NIjInzfmU",
        "colab": {
          "base_uri": "https://localhost:8080/"
        },
        "outputId": "a7f2bbb2-30ab-4759-8658-1b24fb0585e7"
      },
      "source": [
        "def nota(media):\n",
        "    p1 = float (input('Digite a nota da p1: '))\n",
        "    p2 = float (input('Digite a nota da p2: '))\n",
        "    mediaA = (p1+p2)/2\n",
        "    print('Media do aluno:',mediaA)\n",
        "\n",
        "def aprova(p1,p2):\n",
        "    nota('mediaA')\n",
        "    while mediaA >= 6:\n",
        "        print('Aprovado!')\n",
        "    else:\n",
        "        print('Reprovado!')\n",
        "        \n",
        "def main():\n",
        "    aprova(p1,p2)\n",
        "    nota(mediaA)\n",
        "main()"
      ],
      "execution_count": null,
      "outputs": [
        {
          "output_type": "stream",
          "text": [
            "Digite a nota da p1: 5\n",
            "Digite a nota da p2: 6\n",
            "Media do aluno: 5.5\n",
            "Reprovado!\n"
          ],
          "name": "stdout"
        }
      ]
    },
    {
      "cell_type": "markdown",
      "metadata": {
        "id": "_aPd4c1b3OjS"
      },
      "source": [
        "### 4. (Função sem retorno com parâmetro) Faça uma função/método para a partir de um preço de um produto informado, calcular e apresentar o novo preço reajustado em 9%."
      ]
    },
    {
      "cell_type": "code",
      "metadata": {
        "id": "Q6LPIy_LCQuO",
        "colab": {
          "base_uri": "https://localhost:8080/"
        },
        "outputId": "e00312df-640e-4269-af35-3d339d2706d1"
      },
      "source": [
        "def valor(novoValor):\n",
        "    reajuste = preco * 9 / 100\n",
        "    novoPreco = reajuste + preco\n",
        "    print('O novo preço é de',novoPreco)\n",
        "def main():\n",
        "    preco = float (input('Insira o preço do produto:    '))\n",
        "    valor(novoPreco)\n",
        "main()"
      ],
      "execution_count": null,
      "outputs": [
        {
          "output_type": "stream",
          "text": [
            "Insira o preço do produto:    300\n",
            "O novo preço é de 327.0\n"
          ],
          "name": "stdout"
        }
      ]
    },
    {
      "cell_type": "markdown",
      "metadata": {
        "id": "JgYwP3n1CQ_U"
      },
      "source": [
        "### 5. (Função sem retorno com parâmetro) Faça uma função/método para a partir de um preço de um produto informado, calcular e apresentar o novo preço reajustado em alguma porcentagem lida."
      ]
    },
    {
      "cell_type": "code",
      "metadata": {
        "id": "fb6TwQ_yh_To",
        "colab": {
          "base_uri": "https://localhost:8080/"
        },
        "outputId": "9e21da7e-381a-4714-b3cf-ffde544c7a9a"
      },
      "source": [
        "def valor(novoValor):\n",
        "    reajuste = preco * porcentagem / 100\n",
        "    novoPreco = reajuste + preco\n",
        "    print('O novo preço é de',novoPreco)\n",
        "def main():\n",
        "    preco = float (input('Insira o preço do produto:    '))\n",
        "    porcentagem = float (input('Insira o percentual de aumento sob o preço do produto:  '))\n",
        "    valor(novoPreco)\n",
        "main()"
      ],
      "execution_count": null,
      "outputs": [
        {
          "output_type": "stream",
          "text": [
            "Insira o preço do produto:    40\n",
            "Insira o percentual de aumento sob o preço do produto:  35\n",
            "O novo preço é de 54.0\n"
          ],
          "name": "stdout"
        }
      ]
    },
    {
      "cell_type": "markdown",
      "metadata": {
        "id": "fZNXRUrrh_g9"
      },
      "source": [
        "### 6. (Função sem retorno com parâmetro) Faça uma função/método para a partir de um valor inicial e um valor final realizar o acumulo desse valores e apresentar o resultado.\n",
        "    Exemplo:\n",
        "        a = 2\n",
        "        b = 8\n",
        "        // 2 + 3 + 4 + 5 + 6 + 7 + 8 = 35\n",
        "        r = 35"
      ]
    },
    {
      "cell_type": "code",
      "metadata": {
        "id": "qA3MK3i1lJ-B",
        "colab": {
          "base_uri": "https://localhost:8080/"
        },
        "outputId": "a86fff76-62fa-45d9-a4f9-14cb6c2a7215"
      },
      "source": [
        "def soma(acumulo):\n",
        "    sum = 0\n",
        "    if (a > 0 and b > 0) and a <= b:\n",
        "        for a in range(a,b+1):\n",
        "            sum = sum + a\n",
        "    print('Result: ',sum)\n",
        "def main():\n",
        "    a = int (input('Type a value:   '))\n",
        "    b = int (input('Type an another value:  '))\n",
        "    soma(sum)\n",
        "main()"
      ],
      "execution_count": null,
      "outputs": [
        {
          "output_type": "stream",
          "text": [
            "Type a value:   2\n",
            "Type an another value:  8\n",
            "Result:  35\n"
          ],
          "name": "stdout"
        }
      ]
    },
    {
      "cell_type": "markdown",
      "metadata": {
        "id": "qC3ghcOalLBi"
      },
      "source": [
        "### 7. (Função sem retorno com parâmetro) Faça uma função/método sem parâmetro, para ler um valor e chamar/criar OUTRA função (com parâmetro) que mostre se o valor é par ou ímpar."
      ]
    },
    {
      "cell_type": "code",
      "metadata": {
        "id": "73QPAAO0q2Wo",
        "colab": {
          "base_uri": "https://localhost:8080/",
          "height": 52
        },
        "outputId": "f102578f-845a-48f8-ac23-a0c4ff53b987"
      },
      "source": [
        "def recebe_numero():\n",
        "    numero = float (input('Informe um valor:    '))\n",
        "    def decide(imparoupar):\n",
        "    if (numero % 2 == 0):\n",
        "        return \"Par\"\n",
        "    else:\n",
        "        return \"Ímpar\"\n",
        "    decide(\"imparoupar\")\n",
        "def main():\n",
        "    recebe_numero()\n",
        "main()"
      ],
      "execution_count": null,
      "outputs": [
        {
          "output_type": "stream",
          "text": [
            "Informe um valor:    13\n"
          ],
          "name": "stdout"
        },
        {
          "output_type": "execute_result",
          "data": {
            "application/vnd.google.colaboratory.intrinsic+json": {
              "type": "string"
            },
            "text/plain": [
              "'Ímpar'"
            ]
          },
          "metadata": {
            "tags": []
          },
          "execution_count": 36
        }
      ]
    },
    {
      "cell_type": "markdown",
      "metadata": {
        "id": "Go_7xqNQq2oY"
      },
      "source": [
        "### 8. (Função sem retorno com parâmetro) Faça uma função/método para calcular a tabuada de um número informado pelo usuário."
      ]
    },
    {
      "cell_type": "code",
      "metadata": {
        "id": "BgfVTL9-0WQi",
        "colab": {
          "base_uri": "https://localhost:8080/"
        },
        "outputId": "2df1e6f8-2ae3-4596-8db8-7760c97351dd"
      },
      "source": [
        "def tabuada(valor):\n",
        "    aux = 0  \n",
        "    print('*' * 18)  \n",
        "    print('Tabuada de {}'.format(valor))  \n",
        "    print('*' * 18)  \n",
        "    while (aux <= 10):  \n",
        "        print('{0} X {1} = {2}'.format(aux, valor, (aux * valor)))  \n",
        "        aux = aux + 1\n",
        "def main():\n",
        "    valor = int (input('Entre com um número para saber a tabuada: '))  \n",
        "    tabuada(aux)\n",
        "main()"
      ],
      "execution_count": null,
      "outputs": [
        {
          "output_type": "stream",
          "text": [
            "Entre com um número para saber a tabuada: 6\n",
            "******************\n",
            "Tabuada de 6\n",
            "******************\n",
            "0 X 6 = 0\n",
            "1 X 6 = 6\n",
            "2 X 6 = 12\n",
            "3 X 6 = 18\n",
            "4 X 6 = 24\n",
            "5 X 6 = 30\n",
            "6 X 6 = 36\n",
            "7 X 6 = 42\n",
            "8 X 6 = 48\n",
            "9 X 6 = 54\n",
            "10 X 6 = 60\n"
          ],
          "name": "stdout"
        }
      ]
    },
    {
      "cell_type": "markdown",
      "metadata": {
        "id": "IGOQmdAe0myM"
      },
      "source": [
        "### 9. (Função sem retorno com parâmetro) Faça uma função/método para verificar se um nome digitado é igual a ‘Ana’, mostre o valor True ou False como resposta."
      ]
    },
    {
      "cell_type": "code",
      "metadata": {
        "id": "A4-CekXy0vrz",
        "colab": {
          "base_uri": "https://localhost:8080/"
        },
        "outputId": "18a21c30-9d99-450a-9fe5-0023d682e196"
      },
      "source": [
        "def main(valorAna):\n",
        "    nome = str (input('Digite um nome:  '))\n",
        "    if nome == \"Ana\":\n",
        "        print(True)\n",
        "    else:\n",
        "        print(False)\n",
        "main('valorAna')"
      ],
      "execution_count": null,
      "outputs": [
        {
          "output_type": "stream",
          "text": [
            "Digite um nome:  gilberto\n",
            "False\n"
          ],
          "name": "stdout"
        }
      ]
    },
    {
      "cell_type": "markdown",
      "metadata": {
        "id": "W2PqWZm20v6M"
      },
      "source": [
        "### 10. (Função sem retorno com parâmetro) Faça uma função/método para verificar e contar quantas letras **a** tem numa frase."
      ]
    },
    {
      "cell_type": "code",
      "metadata": {
        "id": "U9eTKxuz1c7S",
        "colab": {
          "base_uri": "https://localhost:8080/"
        },
        "outputId": "c87de602-137e-4688-864e-79cbe8fc8416"
      },
      "source": [
        "def frase(a)\n",
        "    a = frase.count(\"a\")\n",
        "    print(a)\n",
        "def main():\n",
        "    frase = str (input('Digite uma frase: '))\n",
        "    frase(a)\n",
        "main()"
      ],
      "execution_count": null,
      "outputs": [
        {
          "output_type": "stream",
          "text": [
            "Digite uma frase: alana é uma pessoa\n",
            "5\n"
          ],
          "name": "stdout"
        }
      ]
    }
  ]
}