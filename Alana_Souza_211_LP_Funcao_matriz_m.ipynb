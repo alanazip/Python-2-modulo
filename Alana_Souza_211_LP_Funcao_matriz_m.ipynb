{
  "nbformat": 4,
  "nbformat_minor": 0,
  "metadata": {
    "colab": {
      "name": "Alana Souza - 211_LP_Funcao_matriz_m.ipynb",
      "provenance": [],
      "collapsed_sections": [],
      "include_colab_link": true
    },
    "kernelspec": {
      "name": "python3",
      "display_name": "Python 3"
    }
  },
  "cells": [
    {
      "cell_type": "markdown",
      "metadata": {
        "id": "view-in-github",
        "colab_type": "text"
      },
      "source": [
        "<a href=\"https://colab.research.google.com/github/alanazip/Python-2-modulo/blob/main/Alana_Souza_211_LP_Funcao_matriz_m.ipynb\" target=\"_parent\"><img src=\"https://colab.research.google.com/assets/colab-badge.svg\" alt=\"Open In Colab\"/></a>"
      ]
    },
    {
      "cell_type": "markdown",
      "metadata": {
        "id": "skN-Wz61xZzi"
      },
      "source": [
        "### 1. (Função com retorno com parâmetro) Faça um programa contendo uma função/método que leia uma matriz. Na passagem de parâmetro use quantidade de linhas e colunas e ao final retorne a matriz. Na função main apresenta a matriz preenchida com um print apenas."
      ]
    },
    {
      "cell_type": "code",
      "metadata": {
        "id": "Wbjafj_QxWP-",
        "colab": {
          "base_uri": "https://localhost:8080/"
        },
        "outputId": "d990de57-2dad-47e7-a558-0a59bc32b487"
      },
      "source": [
        "def matriz(colunas, linhas):\n",
        "  lista = []\n",
        "  linha = []\n",
        "  for c1 in range(0, linhas):\n",
        "    linha = []\n",
        "    for c2 in range(0, colunas):\n",
        "        n = int(input('Número L[{0}] C[{1}]: '.format(c1 + 1,c2 + 1)))\n",
        "        linha.append(n)\n",
        "    lista.append(linha)\n",
        "  print(lista)\n",
        "  return lista\n",
        "\n",
        "def main():\n",
        "  nl = int(input('Quantas linhas? '))\n",
        "  nc = int(input('Quantas colunas? '))\n",
        "  matriz(nl, nc)\n",
        "\n",
        "main()"
      ],
      "execution_count": null,
      "outputs": [
        {
          "output_type": "stream",
          "text": [
            "Quantas linhas? 1\n",
            "Quantas colunas? 1\n",
            "Número L[1] C[1]: 1\n",
            "[[1]]\n"
          ],
          "name": "stdout"
        }
      ]
    },
    {
      "cell_type": "markdown",
      "metadata": {
        "id": "0jPoba3-yLnG"
      },
      "source": [
        "### 2. Faça um programa contendo uma função/método que mostre uma matriz. Na passagem de parâmetro use a matriz apenas. A quantidade de linhas e colunas deve ser identificada dentro da funcão, usando a função len() da linguagem Python. "
      ]
    },
    {
      "cell_type": "code",
      "metadata": {
        "id": "UHD2oMlJyLzc",
        "colab": {
          "base_uri": "https://localhost:8080/"
        },
        "outputId": "9bca953a-e8c0-49fd-c1e3-9ad568810e2e"
      },
      "source": [
        "matriz = []\n",
        "m = int(input('digite o numero de linhas: '))\n",
        "n = int(input('digite o numero de colunas: '))\n",
        "\n",
        "def ler_matriz(): \n",
        "  for i in range(m): \n",
        "    linha = []\n",
        "    for j in range(n): \n",
        "      x = int(input('digite o elemento %i | %i da matriz: '%(i,j)))\n",
        "      linha.append(x)\n",
        "    matriz.append(linha)\n",
        "  for i in range(len(matriz)):\n",
        "    for j in range(len(matriz)):\n",
        "      print(matriz[i][j],end='\\t')\n",
        "    print('')\n",
        "\n",
        "def main():\n",
        "  ler_matriz()\n",
        "main()"
      ],
      "execution_count": null,
      "outputs": [
        {
          "output_type": "stream",
          "text": [
            "digite o numero de linhas: 3\n",
            "digite o numero de colunas: 3\n",
            "digite o elemento 0 | 0 da matriz: 22\n",
            "digite o elemento 0 | 1 da matriz: 27\n",
            "digite o elemento 0 | 2 da matriz: 92\n",
            "digite o elemento 1 | 0 da matriz: 12\n",
            "digite o elemento 1 | 1 da matriz: 32\n",
            "digite o elemento 1 | 2 da matriz: 123\n",
            "digite o elemento 2 | 0 da matriz: 324\n",
            "digite o elemento 2 | 1 da matriz: 455\n",
            "digite o elemento 2 | 2 da matriz: 113\n",
            "22\t27\t92\t\n",
            "12\t32\t123\t\n",
            "324\t455\t113\t\n"
          ],
          "name": "stdout"
        }
      ]
    },
    {
      "cell_type": "markdown",
      "metadata": {
        "id": "HAz_eYfhzg06"
      },
      "source": [
        "### 3. Crie uma função que receba uma matriz e returne True se a matriz for simetrica, em caso contrario retorna False. Uma matriz é considerada simétrica quando a quantidade de linhas é igual a da coluna.\n",
        "\n"
      ]
    },
    {
      "cell_type": "code",
      "metadata": {
        "id": "Cg-NIjInzfmU",
        "colab": {
          "base_uri": "https://localhost:8080/"
        },
        "outputId": "b47759b3-096c-4294-94a7-81c7f73ba9f0"
      },
      "source": [
        "def matriz():\n",
        "  linha = []\n",
        "  lista = []\n",
        "  nl = int(input('Quantas linhas? '))\n",
        "  nc = int(input('Quantas colunas? '))\n",
        "  for c1 in range(0, nl):\n",
        "    linha = []\n",
        "    for c2 in range(0, nc):\n",
        "        n = int(input('Número L[{0}] C[{1}]: '.format(c1 + 1,c2 + 1)))\n",
        "        linha.append(n)\n",
        "    lista.append(linha)\n",
        "  print(lista)\n",
        "  if nl == nc:\n",
        "    return True\n",
        "  else:\n",
        "    return False\n",
        "\n",
        "def main():\n",
        "  m = matriz()\n",
        "  print(m)\n",
        "\n",
        "main()"
      ],
      "execution_count": null,
      "outputs": [
        {
          "output_type": "stream",
          "text": [
            "Quantas linhas? 2\n",
            "Quantas colunas? 2\n",
            "Número L[1] C[1]: 1\n",
            "Número L[1] C[2]: 10\n",
            "Número L[2] C[1]: 100\n",
            "Número L[2] C[2]: 1000\n",
            "[[1, 10], [100, 1000]]\n",
            "True\n"
          ],
          "name": "stdout"
        }
      ]
    },
    {
      "cell_type": "markdown",
      "metadata": {
        "id": "_aPd4c1b3OjS"
      },
      "source": [
        "### 4. Crie uma função que receba como parâmetro duas matrizes a_mat e b_mat, deve retornar a matriz resultante após o produto (multiplicação) de a_mat por b_mat. Deve-se avaliar antes da multiplicação que o número de colunas de a_mat é igual ao número de linhas de b_mat. Use na main, a chamada da função mostrar valores de uma matriz."
      ]
    },
    {
      "cell_type": "code",
      "metadata": {
        "id": "Q6LPIy_LCQuO"
      },
      "source": [
        "# Digite aqui seu código"
      ],
      "execution_count": null,
      "outputs": []
    },
    {
      "cell_type": "markdown",
      "metadata": {
        "id": "JgYwP3n1CQ_U"
      },
      "source": [
        "### 5. Crie uma função que a partir de uma matriz 4x4 mostre a soma dos elementos da **diagonal principal** . Mostre também a soma dos elementos que estão **acima** da diagonal principal. Diagonal principal é identificada pelos elementos que estão no mesmo índice de linha e coluna, exemplo, [1,1], [2,2], etc.\n"
      ]
    },
    {
      "cell_type": "code",
      "metadata": {
        "id": "fb6TwQ_yh_To",
        "colab": {
          "base_uri": "https://localhost:8080/"
        },
        "outputId": "c10f9e9c-327b-4b1a-ad50-3c9afce484ff"
      },
      "source": [
        "matriz=[]\n",
        "\n",
        "def ma():\n",
        "  for i in range(4):\n",
        "    linha=[]\n",
        "    for j in range(4):\n",
        "      x = int(input('digite um valor para %i | %i: '%(i,j)))\n",
        "      linha.append(x)\n",
        "    matriz.append(linha)\n",
        "\n",
        "  for i in range(4):\n",
        "    for j in range(4):\n",
        "      print(matriz[i][j], end='\\t')\n",
        "    print(' ')\n",
        "\n",
        "  soma = 0\n",
        "  for j in range(0,4):\n",
        "    soma += matriz[0][j]\n",
        "  print('a soma a cima é: ',soma)\n",
        "\n",
        "  cont = 0\n",
        "  for i in range(4):\n",
        "    for j in range(4):\n",
        "      if matriz[i] == matriz[j]:\n",
        "        cont+= matriz[i][j]\n",
        "  print('a soma da diagonal perfeita é: ',cont)\n",
        "def main():\n",
        "  ma()\n",
        "main()"
      ],
      "execution_count": null,
      "outputs": [
        {
          "output_type": "stream",
          "text": [
            "digite um valor para 0 | 0: 3\n",
            "digite um valor para 0 | 1: 6\n",
            "digite um valor para 0 | 2: 10\n",
            "digite um valor para 0 | 3: 12\n",
            "digite um valor para 1 | 0: 1\n",
            "digite um valor para 1 | 1: 5\n",
            "digite um valor para 1 | 2: 9\n",
            "digite um valor para 1 | 3: 19\n",
            "digite um valor para 2 | 0: 90\n",
            "digite um valor para 2 | 1: 50\n",
            "digite um valor para 2 | 2: 15\n",
            "digite um valor para 2 | 3: 21\n",
            "digite um valor para 3 | 0: 14\n",
            "digite um valor para 3 | 1: 69\n",
            "digite um valor para 3 | 2: 14\n",
            "digite um valor para 3 | 3: 200\n",
            "3\t6\t10\t12\t \n",
            "1\t5\t9\t19\t \n",
            "90\t50\t15\t21\t \n",
            "14\t69\t14\t200\t \n",
            "a soma a cima é:  31\n",
            "a soma da diagonal perfeit é:  223\n"
          ],
          "name": "stdout"
        }
      ]
    },
    {
      "cell_type": "markdown",
      "metadata": {
        "id": "fZNXRUrrh_g9"
      },
      "source": [
        "### 6. Faça um programa que carregue: \n",
        "* um vetor com oito posições com os nomes das lojas; \n",
        "* um outro vetor com quatro posições com os nomes dos produtos; \n",
        "* uma matriz com os preços de todos os produtos em cada loja. \n",
        "\n",
        "O programa deve mostrar todas as relações (nome do produto – nome da loja - preço) nas quais o preço não ultrapasse a R$ 120,00. Escolha qual é o tipo da função que quer utilizar para implementar esse exercício.\n"
      ]
    },
    {
      "cell_type": "code",
      "metadata": {
        "id": "A4-CekXy0vrz"
      },
      "source": [
        "# Digite aqui seu código"
      ],
      "execution_count": null,
      "outputs": []
    }
  ]
}