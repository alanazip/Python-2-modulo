{
  "nbformat": 4,
  "nbformat_minor": 0,
  "metadata": {
    "colab": {
      "name": "Alana Souza - 211_LP_Arquivo_m.ipynb",
      "provenance": [],
      "collapsed_sections": [],
      "include_colab_link": true
    },
    "kernelspec": {
      "name": "python3",
      "display_name": "Python 3"
    }
  },
  "cells": [
    {
      "cell_type": "markdown",
      "metadata": {
        "id": "view-in-github",
        "colab_type": "text"
      },
      "source": [
        "<a href=\"https://colab.research.google.com/github/alanazip/Python-2-modulo/blob/main/Alana_Souza_211_LP_Arquivo_m.ipynb\" target=\"_parent\"><img src=\"https://colab.research.google.com/assets/colab-badge.svg\" alt=\"Open In Colab\"/></a>"
      ]
    },
    {
      "cell_type": "markdown",
      "metadata": {
        "id": "skN-Wz61xZzi"
      },
      "source": [
        "### 1. Elabore uma estrutura para representar e armazenar 10 produtos (código, nome, preço). Utilize os recursos de arquivo para armazenar estes dados permanentemente. O nome do arquivo deve ser o mesmo da estrutura. Construa um menu com as seguintes opções:\n",
        "\n",
        "Menu de opções:\n",
        "1. Cadastrar produtos\n",
        "2. Visualizar todos os dados\n",
        "3. Sair"
      ]
    },
    {
      "cell_type": "code",
      "metadata": {
        "id": "Wbjafj_QxWP-",
        "colab": {
          "base_uri": "https://localhost:8080/"
        },
        "outputId": "048fdede-912d-4799-a71b-e1ca1c332107"
      },
      "source": [
        "class Tipo_Produto:\n",
        "    codigo = 0\n",
        "    nome = ''\n",
        "    preco = 0.0\n",
        "\n",
        "arq_produto = open('produto.txt', 'w')\n",
        "for i in range(1,4):\n",
        "    tp = Tipo_Produto()\n",
        "    tp.codigo = int(input('Informe o código do produto: '))\n",
        "    tp.nome = input('Informe o nome do produto: ')\n",
        "    tp.preco = float(input('Informe o preço do produto: '))\n",
        "    arq_produto.write('%i %s %.2f\\n' % (tp.codigo,tp.nome,tp.preco))\n",
        "arq_produto.close()\n",
        "\n",
        "arq_produto = open('produto.txt', 'r')\n",
        "for x in arq_produto.readlines():\n",
        "    print(x)\n",
        "arq_produto.close()"
      ],
      "execution_count": null,
      "outputs": [
        {
          "output_type": "stream",
          "text": [
            "Informe o código do produto: 3\n",
            "Informe o nome do produto: pANO\n",
            "Informe o preço do produto: 5\n",
            "Informe o código do produto: 1\n",
            "Informe o nome do produto: Garrafa\n",
            "Informe o preço do produto: 9\n",
            "Informe o código do produto: 2\n",
            "Informe o nome do produto: Controle\n",
            "Informe o preço do produto: 19\n",
            "3 pANO 5.00\n",
            "\n",
            "1 Garrafa 9.00\n",
            "\n",
            "2 Controle 19.00\n",
            "\n"
          ],
          "name": "stdout"
        }
      ]
    },
    {
      "cell_type": "markdown",
      "metadata": {
        "id": "0jPoba3-yLnG"
      },
      "source": [
        "### 2. Elabore uma estrutura para representar e armazenar 10 produtos (código, nome, preço). Utilize os recursos de arquivo para armazenar estes dados permanentemente. O nome do arquivo deve ser o mesmo da estrutura.Construa um menu com as seguintes opções, cada uma delas deve ter uma função e a main para chamar todas elas.\n",
        "\n",
        "Menu de opções:\n",
        "1. Cadastrar produtos\n",
        "2. Visualizar todos os dados\n",
        "3. Sair"
      ]
    },
    {
      "cell_type": "code",
      "metadata": {
        "id": "U--JD-UVAZ_4",
        "colab": {
          "base_uri": "https://localhost:8080/"
        },
        "outputId": "97ef1f32-40c9-4a95-ec51-a638bd58e1f5"
      },
      "source": [
        "class produtos:\n",
        "  cod = 0\n",
        "  nome = ''\n",
        "  preco = 0\n",
        "\n",
        "def cadastro(cad):\n",
        "  arquivo = open('produtos.txt','w')\n",
        "  print('**Cadastro de produtos**')\n",
        "  for x in range(10):\n",
        "    p = produtos()\n",
        "    p.cod = int(input('Digite o código do produto: '))\n",
        "    p.nome = input('Digite o nome do produto: ')\n",
        "    p.preco = float(input('Digite o preço do produto: '))\n",
        "    arquivo.write('%x %s %.2f\\n' % (p.cod,p.nome,p.preco))\n",
        "  arquivo.close()\n",
        "\n",
        "def ver():\n",
        "  arquivo = open('produtos.txt','r')\n",
        "  print('Dados dos produtos')\n",
        "  print('Cógio - Nome - Preço')\n",
        "  for y in arquivo.readlines():\n",
        "    print(y)\n",
        "  arquivo.close()\n",
        "\n",
        "def main():\n",
        "  op = 1\n",
        "  while op >= 1 and op <= 2:\n",
        "    print('**Cadastro de Produtos**')\n",
        "    print('1- Cadastrar produtos')\n",
        "    print('2- Visualizar todos os dados')\n",
        "    print('3- Sair')\n",
        "    op = int(input('Digite a opção: '))\n",
        "    if op == 1:\n",
        "        vetP=[]\n",
        "        vetP = cadastro(vetP)\n",
        "    elif op == 2:\n",
        "        ver()\n",
        "\n",
        "main()"
      ],
      "execution_count": null,
      "outputs": [
        {
          "output_type": "stream",
          "text": [
            "**Cadastro de Produtos**\n",
            "1- Cadastrar produtos\n",
            "2- Visualizar todos os dados\n",
            "3- Sair\n",
            "Digite a opção: 3\n"
          ],
          "name": "stdout"
        }
      ]
    },
    {
      "cell_type": "markdown",
      "metadata": {
        "id": "7qLNzo1C_7K5"
      },
      "source": [
        "### 3. Elabore uma estrutura para representar e armazenar 10 alunos (matricula, nome, telefone). Utilize os recursos de arquivo para armazenar estes dados permanentemente. O nome do arquivo deve ser o mesmo da estrutura. Construa um menu com as seguintes opções, cada uma delas deve ter uma função e a main para chamar todas elas.\n",
        "\n",
        "Menu de opções:\n",
        "1. Cadastrar alunos\n",
        "2. Visualizar todos os dados\n",
        "3. Sair\n"
      ]
    },
    {
      "cell_type": "code",
      "metadata": {
        "id": "UHD2oMlJyLzc",
        "colab": {
          "base_uri": "https://localhost:8080/"
        },
        "outputId": "911e4a06-3c72-43b6-ff9f-de292dfe01e5"
      },
      "source": [
        "class alunos:\n",
        "  matricula = 0\n",
        "  nome = ''\n",
        "  tel = 0\n",
        "\n",
        "def cadastrar_a(al):\n",
        "  arquivo = open('alunos.txt','w')\n",
        "  print('**Cadastro de alunos**')\n",
        "  for a in range(2):\n",
        "    c = alunos()\n",
        "    c.matricula = int(input('Digite a matrícula do aluno: '))\n",
        "    c.nome = input('Digite o nome do aluno: ')\n",
        "    c.tel = float(input('Digite o telefone de contato do aluno: '))\n",
        "    arquivo.write('%a %s %i\\n' % (c.matricula,c.nome,c.tel))\n",
        "  arquivo.close()\n",
        "\n",
        "def ver():\n",
        "  arquivo = open('alunos.txt','r')\n",
        "  print('Dados dos alunos')\n",
        "  print('Matrícula - Nome - Telefone')\n",
        "  for y in arquivo.readlines():\n",
        "    print(y)\n",
        "  arquivo.close()\n",
        "\n",
        "def main():\n",
        "  op = 1\n",
        "  while op >= 1 and op <= 2:\n",
        "    print('**Cadastro de Alunos**')\n",
        "    print('1- Cadastrar alunos')\n",
        "    print('2- Visualizar todos os dados')\n",
        "    print('3- Sair')\n",
        "    op = int(input('Digite a opção: '))\n",
        "    if op == 1:\n",
        "        vetA=[]\n",
        "        vetA = cadastrar_a(vetA)\n",
        "    elif op == 2:\n",
        "        ver()\n",
        "\n",
        "main()"
      ],
      "execution_count": null,
      "outputs": [
        {
          "output_type": "stream",
          "text": [
            "**Cadastro de Alunos**\n",
            "1- Cadastrar alunos\n",
            "2- Visualizar todos os dados\n",
            "3- Sair\n",
            "Digite a opção: 3\n"
          ],
          "name": "stdout"
        }
      ]
    },
    {
      "cell_type": "markdown",
      "metadata": {
        "id": "4zGuLRRXt0D_"
      },
      "source": [
        "### 4. Baixe o arquivo futebol.txt que esta na pasta Material do aula do Teams. Leia este arquivo e o apresente. Com os dados lidos, armazene na estrutura Futebol (posicao_jogo, altura, peso, imc), calcule o IMC (Índice de Massa Corporal), armazene na estrutura e também em outro arquivo, mas agora chamado futebol_imc.txt. Apresente este novo arquivo. \n",
        "Observação: esse exercício deve ser testado fora do Colab, no Idle ou qualquer outra IDE, porque usará um arquivo que estará na pasta material de aula do Teams."
      ]
    },
    {
      "cell_type": "code",
      "metadata": {
        "id": "nU0x1v2Vt1-w",
        "colab": {
          "base_uri": "https://localhost:8080/"
        },
        "outputId": "b4335650-76b5-46e0-e45c-884448b2fae7"
      },
      "source": [
        "class Futebol:\n",
        "    posicao_jogo = ''\n",
        "    altura = 0\n",
        "    peso = 0\n",
        "    imc = 0\n",
        "\n",
        "def jogadores(jogar):\n",
        "    arquivo = open('futebol_imc.txt','w')\n",
        "    print('IMC dos jogadores......')\n",
        "    for i in range(3):\n",
        "        f = Futebol()\n",
        "        f.posicao_jogo = input('Digite a posição do jogador: ')\n",
        "        f.altura = float(input('Digite a altura do jogador: '))\n",
        "        f.peso = float(input('Digite o peso do jogador: '))\n",
        "        f.imc = f.peso / (f.altura)**2\n",
        "        arquivo.write(f'{f.posicao_jogo}-{f.altura:.2f}-{f.peso}-{f.imc:.2f}\\n')\n",
        "    arquivo.close()\n",
        "    return jogar\n",
        "\n",
        "def mostrar():\n",
        "    arquivo = open('futebol_imc.txt','r')\n",
        "    print('Dados dos jogadores...')\n",
        "    print('Posição - Altura - Peso - IMC')\n",
        "    for l in arquivo.readlines():\n",
        "      print(l)\n",
        "    arquivo.close()\n",
        "\n",
        "def main():\n",
        "    op = 1\n",
        "    while op >=1 and op <= 2:\n",
        "        print('IMC dos jogadores')\n",
        "        print('1 - Cadastrar dados')\n",
        "        print('2 - Mostrar dados')\n",
        "        print('3 - Sair')\n",
        "        op = int(input('Escolha uma opção: '))\n",
        "        if op == 1:\n",
        "            vetF=[]\n",
        "            vetF = jogadores(vetF)\n",
        "        elif op == 2:\n",
        "            mostrar()\n",
        "\n",
        "main()"
      ],
      "execution_count": null,
      "outputs": [
        {
          "output_type": "stream",
          "text": [
            "IMC dos jogadores\n",
            "1 - Cadastrar dados\n",
            "2 - Mostrar dados\n",
            "3 - Sair\n",
            "Escolha uma opção: 3\n"
          ],
          "name": "stdout"
        }
      ]
    }
  ]
}